{
 "cells": [
  {
   "cell_type": "code",
   "execution_count": 34,
   "metadata": {
    "scrolled": true
   },
   "outputs": [
    {
     "data": {
      "text/plain": [
       "73"
      ]
     },
     "execution_count": 34,
     "metadata": {},
     "output_type": "execute_result"
    }
   ],
   "source": [
    "import json \n",
    "import csv \n",
    "\n",
    "# Opening JSON file and loading the data \n",
    "# into the variable data \n",
    "with open('kijiji-output.json') as json_file: \n",
    "    data = json.load(json_file) \n",
    "    \n",
    "count = 0\n",
    "    \n",
    "for line in data:\n",
    "    count += 1\n",
    "    \n",
    "count"
   ]
  },
  {
   "cell_type": "code",
   "execution_count": 64,
   "metadata": {},
   "outputs": [
    {
     "data": {
      "text/plain": [
       "{'price': 'Please Contact',\n",
       " 'title': \"Queen's Student Rentals! - Many Units Available on Our Website\",\n",
       " 'distance': '',\n",
       " 'date-posted': '< 14 hours ago',\n",
       " 'location': 'Kingston',\n",
       " 'description': \"Attention Queen's students! Are you looking for a rental for May 2021? Look no further, Amber Peak Property Management Ltd. has many well-located housing options to explore. Please see our website ...\"}"
      ]
     },
     "execution_count": 64,
     "metadata": {},
     "output_type": "execute_result"
    }
   ],
   "source": [
    "data[8]"
   ]
  },
  {
   "cell_type": "code",
   "execution_count": 79,
   "metadata": {},
   "outputs": [],
   "source": [
    "import pandas as pd \n",
    "import numpy as np\n",
    "\n",
    "from re import sub\n",
    "from decimal import Decimal"
   ]
  },
  {
   "cell_type": "code",
   "execution_count": 59,
   "metadata": {},
   "outputs": [
    {
     "data": {
      "text/html": [
       "<div>\n",
       "<style scoped>\n",
       "    .dataframe tbody tr th:only-of-type {\n",
       "        vertical-align: middle;\n",
       "    }\n",
       "\n",
       "    .dataframe tbody tr th {\n",
       "        vertical-align: top;\n",
       "    }\n",
       "\n",
       "    .dataframe thead th {\n",
       "        text-align: right;\n",
       "    }\n",
       "</style>\n",
       "<table border=\"1\" class=\"dataframe\">\n",
       "  <thead>\n",
       "    <tr style=\"text-align: right;\">\n",
       "      <th></th>\n",
       "      <th>price</th>\n",
       "      <th>title</th>\n",
       "      <th>distance</th>\n",
       "      <th>date-posted</th>\n",
       "      <th>location</th>\n",
       "      <th>description</th>\n",
       "    </tr>\n",
       "  </thead>\n",
       "  <tbody>\n",
       "    <tr>\n",
       "      <th>0</th>\n",
       "      <td>$2,775.00</td>\n",
       "      <td>3 BED 3 BATH - PRIVATE ENSUITE BATHROOM FOR EV...</td>\n",
       "      <td></td>\n",
       "      <td>07/01/2021</td>\n",
       "      <td>Kingston</td>\n",
       "      <td>Starting at $925/Bedroom per Month Private ens...</td>\n",
       "    </tr>\n",
       "  </tbody>\n",
       "</table>\n",
       "</div>"
      ],
      "text/plain": [
       "       price                                              title distance  \\\n",
       "0  $2,775.00  3 BED 3 BATH - PRIVATE ENSUITE BATHROOM FOR EV...            \n",
       "\n",
       "  date-posted  location                                        description  \n",
       "0  07/01/2021  Kingston  Starting at $925/Bedroom per Month Private ens...  "
      ]
     },
     "execution_count": 59,
     "metadata": {},
     "output_type": "execute_result"
    }
   ],
   "source": [
    "dirty_df = pd.DataFrame(columns=list(data[0].keys()))\n",
    "dirty_df.loc[0] = data[0].values()\n",
    "dirty_df"
   ]
  },
  {
   "cell_type": "code",
   "execution_count": 70,
   "metadata": {},
   "outputs": [
    {
     "data": {
      "text/html": [
       "<div>\n",
       "<style scoped>\n",
       "    .dataframe tbody tr th:only-of-type {\n",
       "        vertical-align: middle;\n",
       "    }\n",
       "\n",
       "    .dataframe tbody tr th {\n",
       "        vertical-align: top;\n",
       "    }\n",
       "\n",
       "    .dataframe thead th {\n",
       "        text-align: right;\n",
       "    }\n",
       "</style>\n",
       "<table border=\"1\" class=\"dataframe\">\n",
       "  <thead>\n",
       "    <tr style=\"text-align: right;\">\n",
       "      <th></th>\n",
       "      <th>price</th>\n",
       "      <th>title</th>\n",
       "      <th>distance</th>\n",
       "      <th>date-posted</th>\n",
       "      <th>location</th>\n",
       "      <th>description</th>\n",
       "    </tr>\n",
       "  </thead>\n",
       "  <tbody>\n",
       "    <tr>\n",
       "      <th>0</th>\n",
       "      <td>$2,775.00</td>\n",
       "      <td>3 BED 3 BATH - PRIVATE ENSUITE BATHROOM FOR EV...</td>\n",
       "      <td></td>\n",
       "      <td>07/01/2021</td>\n",
       "      <td>Kingston</td>\n",
       "      <td>Starting at $925/Bedroom per Month Private ens...</td>\n",
       "    </tr>\n",
       "  </tbody>\n",
       "</table>\n",
       "</div>"
      ],
      "text/plain": [
       "       price                                              title distance  \\\n",
       "0  $2,775.00  3 BED 3 BATH - PRIVATE ENSUITE BATHROOM FOR EV...            \n",
       "\n",
       "  date-posted  location                                        description  \n",
       "0  07/01/2021  Kingston  Starting at $925/Bedroom per Month Private ens...  "
      ]
     },
     "execution_count": 70,
     "metadata": {},
     "output_type": "execute_result"
    }
   ],
   "source": [
    "df = pd.DataFrame(columns=list(data[0].keys()))\n",
    "\n",
    "# Clean up test\n",
    "dirty = list(data[0].values())\n",
    "money = round(Decimal(sub(r'[^\\d.]', '', dirty[0])))\n",
    "date = dirty[3].replace(\"/\", \"\")\n",
    "date\n",
    "\n",
    "df.loc[0] = list(data[0].values())\n",
    "df"
   ]
  },
  {
   "cell_type": "code",
   "execution_count": 80,
   "metadata": {},
   "outputs": [],
   "source": [
    "# Build the dataframe\n",
    "clean_df = pd.DataFrame(columns=list(data[0].keys()))\n",
    "\n",
    "for i in range(len(data)):\n",
    "    # Clean up basic stuff\n",
    "    dirty = list(data[i].values())\n",
    "    money = 0\n",
    "    try:\n",
    "        money = round(Decimal(sub(r'[^\\d.]', '', dirty[0])))\n",
    "    except:\n",
    "        money = np.nan\n",
    "    date = dirty[3].replace(\"/\", \"\")\n",
    "    \n",
    "    clean_df.loc[i] = [money, data[i]['title'], data[i]['distance'],\n",
    "                       date, data[i]['location'], data[i]['description']]"
   ]
  },
  {
   "cell_type": "code",
   "execution_count": 81,
   "metadata": {},
   "outputs": [
    {
     "data": {
      "text/html": [
       "<div>\n",
       "<style scoped>\n",
       "    .dataframe tbody tr th:only-of-type {\n",
       "        vertical-align: middle;\n",
       "    }\n",
       "\n",
       "    .dataframe tbody tr th {\n",
       "        vertical-align: top;\n",
       "    }\n",
       "\n",
       "    .dataframe thead th {\n",
       "        text-align: right;\n",
       "    }\n",
       "</style>\n",
       "<table border=\"1\" class=\"dataframe\">\n",
       "  <thead>\n",
       "    <tr style=\"text-align: right;\">\n",
       "      <th></th>\n",
       "      <th>price</th>\n",
       "      <th>title</th>\n",
       "      <th>distance</th>\n",
       "      <th>date-posted</th>\n",
       "      <th>location</th>\n",
       "      <th>description</th>\n",
       "    </tr>\n",
       "  </thead>\n",
       "  <tbody>\n",
       "    <tr>\n",
       "      <th>0</th>\n",
       "      <td>2775</td>\n",
       "      <td>3 BED 3 BATH - PRIVATE ENSUITE BATHROOM FOR EV...</td>\n",
       "      <td></td>\n",
       "      <td>07012021</td>\n",
       "      <td>Kingston</td>\n",
       "      <td>Starting at $925/Bedroom per Month Private ens...</td>\n",
       "    </tr>\n",
       "    <tr>\n",
       "      <th>1</th>\n",
       "      <td>2455</td>\n",
       "      <td>MODERN 3-Bedroom Apartment Downtown - 5 Mins t...</td>\n",
       "      <td></td>\n",
       "      <td>17012021</td>\n",
       "      <td>Kingston</td>\n",
       "      <td>3D virtual tour available â€“ contact for deta...</td>\n",
       "    </tr>\n",
       "    <tr>\n",
       "      <th>2</th>\n",
       "      <td>2625</td>\n",
       "      <td>Renovated from top to bottom! 3 Bedroom - Avai...</td>\n",
       "      <td></td>\n",
       "      <td>07012021</td>\n",
       "      <td>Kingston</td>\n",
       "      <td>It is a beautiful spacious unit in a great loc...</td>\n",
       "    </tr>\n",
       "    <tr>\n",
       "      <th>3</th>\n",
       "      <td>1950</td>\n",
       "      <td>2 Bedroom, Available May 1st, 2021 - 10 MINS F...</td>\n",
       "      <td></td>\n",
       "      <td>14012021</td>\n",
       "      <td>Kingston</td>\n",
       "      <td>Just 10 minutes to Queen's University, and ste...</td>\n",
       "    </tr>\n",
       "    <tr>\n",
       "      <th>4</th>\n",
       "      <td>2673</td>\n",
       "      <td>RENOVATED 3-Bedroom Apartment - 5 Mins to Quee...</td>\n",
       "      <td></td>\n",
       "      <td>17012021</td>\n",
       "      <td>Kingston</td>\n",
       "      <td>Completely renovated, 3-bedroom apartment is o...</td>\n",
       "    </tr>\n",
       "    <tr>\n",
       "      <th>...</th>\n",
       "      <td>...</td>\n",
       "      <td>...</td>\n",
       "      <td>...</td>\n",
       "      <td>...</td>\n",
       "      <td>...</td>\n",
       "      <td>...</td>\n",
       "    </tr>\n",
       "    <tr>\n",
       "      <th>68</th>\n",
       "      <td>600</td>\n",
       "      <td>Single Room for rent all inclusive 600.00</td>\n",
       "      <td></td>\n",
       "      <td>28112020</td>\n",
       "      <td>Kingston</td>\n",
       "      <td>One second floor bedroom for Rent 600 , includ...</td>\n",
       "    </tr>\n",
       "    <tr>\n",
       "      <th>69</th>\n",
       "      <td>570</td>\n",
       "      <td>Looking for  2 Student/Young Professional Room...</td>\n",
       "      <td></td>\n",
       "      <td>24112020</td>\n",
       "      <td>Kingston</td>\n",
       "      <td>Looking for two students/young professionals r...</td>\n",
       "    </tr>\n",
       "    <tr>\n",
       "      <th>70</th>\n",
       "      <td>550</td>\n",
       "      <td>STUDENT RENTAL, ONE BEDROOM AVAIL STEPS TO PEN...</td>\n",
       "      <td></td>\n",
       "      <td>24112020</td>\n",
       "      <td>Kingston</td>\n",
       "      <td>LOOKING FOR MALE TENANT , ONE BEDROOM IN A THR...</td>\n",
       "    </tr>\n",
       "    <tr>\n",
       "      <th>71</th>\n",
       "      <td>90</td>\n",
       "      <td>NEW AEROBED HEAVY DUTY COMMERCIAL GRADE AIR MA...</td>\n",
       "      <td></td>\n",
       "      <td></td>\n",
       "      <td>Ontario</td>\n",
       "      <td>AEROBEDÂ® QUEEN SIZED COMMERCIAL GRADE AIR MAT...</td>\n",
       "    </tr>\n",
       "    <tr>\n",
       "      <th>72</th>\n",
       "      <td>115</td>\n",
       "      <td>Promo! EnGenius Network ENS202EXT Wireless N30...</td>\n",
       "      <td></td>\n",
       "      <td></td>\n",
       "      <td>Canada</td>\n",
       "      <td>High Quality, Low Prices for both Wholesale an...</td>\n",
       "    </tr>\n",
       "  </tbody>\n",
       "</table>\n",
       "<p>73 rows × 6 columns</p>\n",
       "</div>"
      ],
      "text/plain": [
       "   price                                              title distance  \\\n",
       "0   2775  3 BED 3 BATH - PRIVATE ENSUITE BATHROOM FOR EV...            \n",
       "1   2455  MODERN 3-Bedroom Apartment Downtown - 5 Mins t...            \n",
       "2   2625  Renovated from top to bottom! 3 Bedroom - Avai...            \n",
       "3   1950  2 Bedroom, Available May 1st, 2021 - 10 MINS F...            \n",
       "4   2673  RENOVATED 3-Bedroom Apartment - 5 Mins to Quee...            \n",
       "..   ...                                                ...      ...   \n",
       "68   600          Single Room for rent all inclusive 600.00            \n",
       "69   570  Looking for  2 Student/Young Professional Room...            \n",
       "70   550  STUDENT RENTAL, ONE BEDROOM AVAIL STEPS TO PEN...            \n",
       "71    90  NEW AEROBED HEAVY DUTY COMMERCIAL GRADE AIR MA...            \n",
       "72   115  Promo! EnGenius Network ENS202EXT Wireless N30...            \n",
       "\n",
       "   date-posted  location                                        description  \n",
       "0     07012021  Kingston  Starting at $925/Bedroom per Month Private ens...  \n",
       "1     17012021  Kingston  3D virtual tour available â€“ contact for deta...  \n",
       "2     07012021  Kingston  It is a beautiful spacious unit in a great loc...  \n",
       "3     14012021  Kingston  Just 10 minutes to Queen's University, and ste...  \n",
       "4     17012021  Kingston  Completely renovated, 3-bedroom apartment is o...  \n",
       "..         ...       ...                                                ...  \n",
       "68    28112020  Kingston  One second floor bedroom for Rent 600 , includ...  \n",
       "69    24112020  Kingston  Looking for two students/young professionals r...  \n",
       "70    24112020  Kingston  LOOKING FOR MALE TENANT , ONE BEDROOM IN A THR...  \n",
       "71               Ontario  AEROBEDÂ® QUEEN SIZED COMMERCIAL GRADE AIR MAT...  \n",
       "72                Canada  High Quality, Low Prices for both Wholesale an...  \n",
       "\n",
       "[73 rows x 6 columns]"
      ]
     },
     "execution_count": 81,
     "metadata": {},
     "output_type": "execute_result"
    }
   ],
   "source": [
    "clean_df"
   ]
  },
  {
   "cell_type": "code",
   "execution_count": null,
   "metadata": {},
   "outputs": [],
   "source": [
    "# now we will open a file for writing \n",
    "data_file = open('data_file.csv', 'w') \n",
    "\n",
    "# create the csv writer object \n",
    "csv_writer = csv.writer(data_file) \n",
    "    \n",
    "data_file.close()"
   ]
  }
 ],
 "metadata": {
  "kernelspec": {
   "display_name": "Python 3",
   "language": "python",
   "name": "python3"
  },
  "language_info": {
   "codemirror_mode": {
    "name": "ipython",
    "version": 3
   },
   "file_extension": ".py",
   "mimetype": "text/x-python",
   "name": "python",
   "nbconvert_exporter": "python",
   "pygments_lexer": "ipython3",
   "version": "3.8.5"
  }
 },
 "nbformat": 4,
 "nbformat_minor": 4
}
