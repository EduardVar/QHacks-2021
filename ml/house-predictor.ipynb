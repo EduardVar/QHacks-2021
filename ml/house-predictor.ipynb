{
 "cells": [
  {
   "cell_type": "code",
   "execution_count": 1,
   "metadata": {},
   "outputs": [],
   "source": [
    "import numpy as np\n",
    "import pandas as pd\n",
    "import matplotlib.pyplot as plt\n",
    "import seaborn as sns\n",
    "import mpl_toolkits\n",
    "%matplotlib inline"
   ]
  },
  {
   "cell_type": "code",
   "execution_count": 2,
   "metadata": {},
   "outputs": [],
   "source": [
    "data = pd.read_csv(\"housing_data.csv\")"
   ]
  },
  {
   "cell_type": "code",
   "execution_count": 30,
   "metadata": {},
   "outputs": [
    {
     "data": {
      "text/html": [
       "<div>\n",
       "<style scoped>\n",
       "    .dataframe tbody tr th:only-of-type {\n",
       "        vertical-align: middle;\n",
       "    }\n",
       "\n",
       "    .dataframe tbody tr th {\n",
       "        vertical-align: top;\n",
       "    }\n",
       "\n",
       "    .dataframe thead th {\n",
       "        text-align: right;\n",
       "    }\n",
       "</style>\n",
       "<table border=\"1\" class=\"dataframe\">\n",
       "  <thead>\n",
       "    <tr style=\"text-align: right;\">\n",
       "      <th></th>\n",
       "      <th>price</th>\n",
       "      <th>title</th>\n",
       "      <th>distance</th>\n",
       "      <th>date-posted</th>\n",
       "      <th>location</th>\n",
       "      <th>description</th>\n",
       "    </tr>\n",
       "  </thead>\n",
       "  <tbody>\n",
       "    <tr>\n",
       "      <th>0</th>\n",
       "      <td>2775.0</td>\n",
       "      <td>3 BED 3 BATH - PRIVATE ENSUITE BATHROOM FOR EV...</td>\n",
       "      <td>NaN</td>\n",
       "      <td>7012021</td>\n",
       "      <td>Kingston</td>\n",
       "      <td>Starting at $925/Bedroom per Month Private ens...</td>\n",
       "    </tr>\n",
       "    <tr>\n",
       "      <th>1</th>\n",
       "      <td>2455.0</td>\n",
       "      <td>MODERN 3-Bedroom Apartment Downtown - 5 Mins t...</td>\n",
       "      <td>5.0</td>\n",
       "      <td>17012021</td>\n",
       "      <td>Kingston</td>\n",
       "      <td>3D virtual tour available â€“ contact for deta...</td>\n",
       "    </tr>\n",
       "    <tr>\n",
       "      <th>2</th>\n",
       "      <td>2625.0</td>\n",
       "      <td>Renovated from top to bottom! 3 Bedroom - Avai...</td>\n",
       "      <td>NaN</td>\n",
       "      <td>7012021</td>\n",
       "      <td>Kingston</td>\n",
       "      <td>It is a beautiful spacious unit in a great loc...</td>\n",
       "    </tr>\n",
       "    <tr>\n",
       "      <th>3</th>\n",
       "      <td>1950.0</td>\n",
       "      <td>2 Bedroom, Available May 1st, 2021 - 10 MINS F...</td>\n",
       "      <td>10.0</td>\n",
       "      <td>14012021</td>\n",
       "      <td>Kingston</td>\n",
       "      <td>Just 10 minutes to Queen's University, and ste...</td>\n",
       "    </tr>\n",
       "    <tr>\n",
       "      <th>4</th>\n",
       "      <td>2673.0</td>\n",
       "      <td>RENOVATED 3-Bedroom Apartment - 5 Mins to Quee...</td>\n",
       "      <td>5.0</td>\n",
       "      <td>17012021</td>\n",
       "      <td>Kingston</td>\n",
       "      <td>Completely renovated, 3-bedroom apartment is o...</td>\n",
       "    </tr>\n",
       "    <tr>\n",
       "      <th>...</th>\n",
       "      <td>...</td>\n",
       "      <td>...</td>\n",
       "      <td>...</td>\n",
       "      <td>...</td>\n",
       "      <td>...</td>\n",
       "      <td>...</td>\n",
       "    </tr>\n",
       "    <tr>\n",
       "      <th>60</th>\n",
       "      <td>590.0</td>\n",
       "      <td>ASAP - Looking for Sublet for Jan 1st utilitie...</td>\n",
       "      <td>NaN</td>\n",
       "      <td>29112020</td>\n",
       "      <td>Kingston</td>\n",
       "      <td>I'm looking for someone to sublet my room or t...</td>\n",
       "    </tr>\n",
       "    <tr>\n",
       "      <th>61</th>\n",
       "      <td>1900.0</td>\n",
       "      <td>WANTED: Apartment/house near Queen's University</td>\n",
       "      <td>NaN</td>\n",
       "      <td>29112020</td>\n",
       "      <td>Kingston</td>\n",
       "      <td>Hello, we are two female students from the Fac...</td>\n",
       "    </tr>\n",
       "    <tr>\n",
       "      <th>62</th>\n",
       "      <td>600.0</td>\n",
       "      <td>Single Room for rent all inclusive 600.00</td>\n",
       "      <td>NaN</td>\n",
       "      <td>28112020</td>\n",
       "      <td>Kingston</td>\n",
       "      <td>One second floor bedroom for Rent 600 , includ...</td>\n",
       "    </tr>\n",
       "    <tr>\n",
       "      <th>63</th>\n",
       "      <td>570.0</td>\n",
       "      <td>Looking for  2 Student/Young Professional Room...</td>\n",
       "      <td>NaN</td>\n",
       "      <td>24112020</td>\n",
       "      <td>Kingston</td>\n",
       "      <td>Looking for two students/young professionals r...</td>\n",
       "    </tr>\n",
       "    <tr>\n",
       "      <th>64</th>\n",
       "      <td>550.0</td>\n",
       "      <td>STUDENT RENTAL, ONE BEDROOM AVAIL STEPS TO PEN...</td>\n",
       "      <td>NaN</td>\n",
       "      <td>24112020</td>\n",
       "      <td>Kingston</td>\n",
       "      <td>LOOKING FOR MALE TENANT , ONE BEDROOM IN A THR...</td>\n",
       "    </tr>\n",
       "  </tbody>\n",
       "</table>\n",
       "<p>65 rows × 6 columns</p>\n",
       "</div>"
      ],
      "text/plain": [
       "     price                                              title  distance  \\\n",
       "0   2775.0  3 BED 3 BATH - PRIVATE ENSUITE BATHROOM FOR EV...       NaN   \n",
       "1   2455.0  MODERN 3-Bedroom Apartment Downtown - 5 Mins t...       5.0   \n",
       "2   2625.0  Renovated from top to bottom! 3 Bedroom - Avai...       NaN   \n",
       "3   1950.0  2 Bedroom, Available May 1st, 2021 - 10 MINS F...      10.0   \n",
       "4   2673.0  RENOVATED 3-Bedroom Apartment - 5 Mins to Quee...       5.0   \n",
       "..     ...                                                ...       ...   \n",
       "60   590.0  ASAP - Looking for Sublet for Jan 1st utilitie...       NaN   \n",
       "61  1900.0    WANTED: Apartment/house near Queen's University       NaN   \n",
       "62   600.0          Single Room for rent all inclusive 600.00       NaN   \n",
       "63   570.0  Looking for  2 Student/Young Professional Room...       NaN   \n",
       "64   550.0  STUDENT RENTAL, ONE BEDROOM AVAIL STEPS TO PEN...       NaN   \n",
       "\n",
       "    date-posted  location                                        description  \n",
       "0       7012021  Kingston  Starting at $925/Bedroom per Month Private ens...  \n",
       "1      17012021  Kingston  3D virtual tour available â€“ contact for deta...  \n",
       "2       7012021  Kingston  It is a beautiful spacious unit in a great loc...  \n",
       "3      14012021  Kingston  Just 10 minutes to Queen's University, and ste...  \n",
       "4      17012021  Kingston  Completely renovated, 3-bedroom apartment is o...  \n",
       "..          ...       ...                                                ...  \n",
       "60     29112020  Kingston  I'm looking for someone to sublet my room or t...  \n",
       "61     29112020  Kingston  Hello, we are two female students from the Fac...  \n",
       "62     28112020  Kingston  One second floor bedroom for Rent 600 , includ...  \n",
       "63     24112020  Kingston  Looking for two students/young professionals r...  \n",
       "64     24112020  Kingston  LOOKING FOR MALE TENANT , ONE BEDROOM IN A THR...  \n",
       "\n",
       "[65 rows x 6 columns]"
      ]
     },
     "execution_count": 30,
     "metadata": {},
     "output_type": "execute_result"
    }
   ],
   "source": [
    "data"
   ]
  },
  {
   "cell_type": "code",
   "execution_count": 52,
   "metadata": {},
   "outputs": [
    {
     "data": {
      "text/plain": [
       "58"
      ]
     },
     "execution_count": 52,
     "metadata": {},
     "output_type": "execute_result"
    }
   ],
   "source": [
    "# Get rid of rows with NaN price\n",
    "data = data[data['price'].notna()]\n",
    "data.head()"
   ]
  },
  {
   "cell_type": "code",
   "execution_count": 32,
   "metadata": {
    "scrolled": true
   },
   "outputs": [
    {
     "data": {
      "text/html": [
       "<div>\n",
       "<style scoped>\n",
       "    .dataframe tbody tr th:only-of-type {\n",
       "        vertical-align: middle;\n",
       "    }\n",
       "\n",
       "    .dataframe tbody tr th {\n",
       "        vertical-align: top;\n",
       "    }\n",
       "\n",
       "    .dataframe thead th {\n",
       "        text-align: right;\n",
       "    }\n",
       "</style>\n",
       "<table border=\"1\" class=\"dataframe\">\n",
       "  <thead>\n",
       "    <tr style=\"text-align: right;\">\n",
       "      <th></th>\n",
       "      <th>distance</th>\n",
       "      <th>date-posted</th>\n",
       "    </tr>\n",
       "  </thead>\n",
       "  <tbody>\n",
       "    <tr>\n",
       "      <th>0</th>\n",
       "      <td>NaN</td>\n",
       "      <td>7012021</td>\n",
       "    </tr>\n",
       "    <tr>\n",
       "      <th>1</th>\n",
       "      <td>5.0</td>\n",
       "      <td>17012021</td>\n",
       "    </tr>\n",
       "    <tr>\n",
       "      <th>2</th>\n",
       "      <td>NaN</td>\n",
       "      <td>7012021</td>\n",
       "    </tr>\n",
       "    <tr>\n",
       "      <th>3</th>\n",
       "      <td>10.0</td>\n",
       "      <td>14012021</td>\n",
       "    </tr>\n",
       "    <tr>\n",
       "      <th>4</th>\n",
       "      <td>5.0</td>\n",
       "      <td>17012021</td>\n",
       "    </tr>\n",
       "  </tbody>\n",
       "</table>\n",
       "</div>"
      ],
      "text/plain": [
       "   distance  date-posted\n",
       "0       NaN      7012021\n",
       "1       5.0     17012021\n",
       "2       NaN      7012021\n",
       "3      10.0     14012021\n",
       "4       5.0     17012021"
      ]
     },
     "execution_count": 32,
     "metadata": {},
     "output_type": "execute_result"
    }
   ],
   "source": [
    "labels = data['price']\n",
    "train1 = data.drop(['title','price', 'description', 'location'],axis=1)\n",
    "train1.head()"
   ]
  },
  {
   "cell_type": "code",
   "execution_count": 58,
   "metadata": {},
   "outputs": [
    {
     "data": {
      "text/html": [
       "<div>\n",
       "<style scoped>\n",
       "    .dataframe tbody tr th:only-of-type {\n",
       "        vertical-align: middle;\n",
       "    }\n",
       "\n",
       "    .dataframe tbody tr th {\n",
       "        vertical-align: top;\n",
       "    }\n",
       "\n",
       "    .dataframe thead th {\n",
       "        text-align: right;\n",
       "    }\n",
       "</style>\n",
       "<table border=\"1\" class=\"dataframe\">\n",
       "  <thead>\n",
       "    <tr style=\"text-align: right;\">\n",
       "      <th></th>\n",
       "      <th>distance</th>\n",
       "      <th>date-posted</th>\n",
       "    </tr>\n",
       "  </thead>\n",
       "  <tbody>\n",
       "    <tr>\n",
       "      <th>0</th>\n",
       "      <td>30.0</td>\n",
       "      <td>7012021</td>\n",
       "    </tr>\n",
       "    <tr>\n",
       "      <th>1</th>\n",
       "      <td>5.0</td>\n",
       "      <td>17012021</td>\n",
       "    </tr>\n",
       "    <tr>\n",
       "      <th>2</th>\n",
       "      <td>30.0</td>\n",
       "      <td>7012021</td>\n",
       "    </tr>\n",
       "    <tr>\n",
       "      <th>3</th>\n",
       "      <td>10.0</td>\n",
       "      <td>14012021</td>\n",
       "    </tr>\n",
       "    <tr>\n",
       "      <th>4</th>\n",
       "      <td>5.0</td>\n",
       "      <td>17012021</td>\n",
       "    </tr>\n",
       "  </tbody>\n",
       "</table>\n",
       "</div>"
      ],
      "text/plain": [
       "   distance  date-posted\n",
       "0      30.0      7012021\n",
       "1       5.0     17012021\n",
       "2      30.0      7012021\n",
       "3      10.0     14012021\n",
       "4       5.0     17012021"
      ]
     },
     "execution_count": 58,
     "metadata": {},
     "output_type": "execute_result"
    }
   ],
   "source": [
    "# Fill in NA\n",
    "train1 = train1.fillna(30)\n",
    "train1.head()"
   ]
  },
  {
   "cell_type": "code",
   "execution_count": 59,
   "metadata": {},
   "outputs": [],
   "source": [
    "# Lets try a bit better\n",
    "from sklearn import ensemble\n",
    "import numpy as np\n",
    "from sklearn.impute import SimpleImputer"
   ]
  },
  {
   "cell_type": "code",
   "execution_count": 60,
   "metadata": {},
   "outputs": [],
   "source": [
    "X_train, X_test, y_train, y_test = train_test_split(train1, labels, test_size=0.1, random_state=69)"
   ]
  },
  {
   "cell_type": "code",
   "execution_count": 61,
   "metadata": {},
   "outputs": [],
   "source": [
    "clf = ensemble.GradientBoostingRegressor(n_estimators=400, max_depth=5, min_samples_split=2, learning_rate=0.1, loss='ls')"
   ]
  },
  {
   "cell_type": "code",
   "execution_count": 62,
   "metadata": {},
   "outputs": [
    {
     "data": {
      "text/plain": [
       "GradientBoostingRegressor(max_depth=5, n_estimators=400)"
      ]
     },
     "execution_count": 62,
     "metadata": {},
     "output_type": "execute_result"
    }
   ],
   "source": [
    "clf.fit(X_train, y_train)"
   ]
  },
  {
   "cell_type": "code",
   "execution_count": 64,
   "metadata": {
    "scrolled": true
   },
   "outputs": [
    {
     "data": {
      "text/plain": [
       "0.06672052749155444"
      ]
     },
     "execution_count": 64,
     "metadata": {},
     "output_type": "execute_result"
    }
   ],
   "source": [
    "clf.score(X_test, y_test) # Need more feature points\n"
   ]
  },
  {
   "cell_type": "code",
   "execution_count": null,
   "metadata": {},
   "outputs": [],
   "source": []
  }
 ],
 "metadata": {
  "kernelspec": {
   "display_name": "Python 3",
   "language": "python",
   "name": "python3"
  },
  "language_info": {
   "codemirror_mode": {
    "name": "ipython",
    "version": 3
   },
   "file_extension": ".py",
   "mimetype": "text/x-python",
   "name": "python",
   "nbconvert_exporter": "python",
   "pygments_lexer": "ipython3",
   "version": "3.8.5"
  }
 },
 "nbformat": 4,
 "nbformat_minor": 4
}
